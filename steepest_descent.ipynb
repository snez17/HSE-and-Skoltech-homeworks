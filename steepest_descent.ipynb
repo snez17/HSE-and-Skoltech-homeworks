{
  "nbformat": 4,
  "nbformat_minor": 0,
  "metadata": {
    "colab": {
      "provenance": []
    },
    "kernelspec": {
      "name": "python3",
      "display_name": "Python 3"
    },
    "language_info": {
      "name": "python"
    }
  },
  "cells": [
    {
      "cell_type": "code",
      "execution_count": null,
      "metadata": {
        "id": "3ZM3Az26TeqY"
      },
      "outputs": [],
      "source": [
        "import numpy as np #вычисления"
      ]
    },
    {
      "cell_type": "code",
      "source": [
        "x0 = [1.5,0.1] #начальная точка\n",
        "epsilon = 0.01 #погрешность"
      ],
      "metadata": {
        "id": "Nf0yfD7tTgI7"
      },
      "execution_count": null,
      "outputs": []
    },
    {
      "cell_type": "code",
      "source": [
        "def f(x): #наша функция\n",
        "    return 3*x[0]**2+7*x[1]**2-6*x[0]-x[1]-1\n",
        "\n",
        "def grad(x): #градиент нашей функции, рассчитан вручную\n",
        "    grad = np.zeros_like(x)\n",
        "    grad[0] = 6*x[0]-6\n",
        "    grad[1] = 14*x[1]-1\n",
        "    return np.array([grad[0],grad[1]])\n",
        "\n",
        "def line_search(f, x, direction, epsilon): #метод дихотомического поиска\n",
        "    \"\"\"\n",
        "    Метод дихотомического поиска для одномерной минимизации.\n",
        "    Аргументы:\n",
        "    - f: функция, для которой ищется минимум\n",
        "    - x: текущая точка\n",
        "    - direction: направление спуска\n",
        "    - epsilon: требуемая точность\n",
        "    Возвращает:\n",
        "    - Минимальное значение функции\n",
        "    - Аргумент, при котором достигается минимум\n",
        "    \"\"\"\n",
        "    a = -1.0  # Начальная левая граница интервала\n",
        "    b = 1.0  # Начальная правая граница интервала\n",
        "\n",
        "    for _ in range(10):\n",
        "        c = (a + b) / 2  # Середина интервала\n",
        "        x1 = x + c * direction\n",
        "        x2 = x + (c + epsilon) * direction\n",
        "        if f(x1) < f(x2):\n",
        "            b = c\n",
        "        else:\n",
        "            a = c\n",
        "\n",
        "    minimum_value = f(x + a * direction)\n",
        "    arg_minimum = x + a * direction\n",
        "    return minimum_value, arg_minimum\n",
        "\n",
        "def steepest_descent_method(f, x0, epsilon): #метод скорейшего спуска\n",
        "    \"\"\"\n",
        "    Метод скорейшего спуска для многомерной минимизации\n",
        "    Аргументы:\n",
        "    - f: функция, для которой ищется минимум\n",
        "    - x0: начальная точка (вектор)\n",
        "    - epsilon: требуемая точность\n",
        "    Возвращает:\n",
        "    - Минимальное значение функции\n",
        "    - Аргумент, при котором достигается минимум\n",
        "    \"\"\"\n",
        "    x = np.array(x0)  # Текущая точка\n",
        "    iteration = 0\n",
        "\n",
        "    while True:\n",
        "        gradient = grad(x)  # Вычисление градиента функции в текущей точке\n",
        "        direction = -1*gradient  # Направление спуска\n",
        "        minimum_value, arg_minimum = line_search(f, x, direction, epsilon)  # Одномерная минимизация методом дихотомического поиска\n",
        "        x = arg_minimum  # Обновление текущей точки\n",
        "\n",
        "        if np.abs(gradient).max() < epsilon:  # Проверка критерия остановки\n",
        "            break\n",
        "        iteration += 1\n",
        "    return minimum_value, arg_minimum, iteration"
      ],
      "metadata": {
        "id": "7LxKwQm1TiRR"
      },
      "execution_count": null,
      "outputs": []
    },
    {
      "cell_type": "code",
      "source": [
        "minimum_value, arg_minimum, iteration = steepest_descent_method(f, x0, epsilon) # Применяем метод скорейшего спуска для решения задачи минимизации\n",
        "print(f\"Методом скорейшего градиентного спуска найден минимум при x = {arg_minimum} со значением {minimum_value} за {iteration} шагов\")\n",
        "print(f\"На данной итерации градиент равен {grad(arg_minimum)}\")"
      ],
      "metadata": {
        "colab": {
          "base_uri": "https://localhost:8080/"
        },
        "id": "Ztzh5_RtTlfq",
        "outputId": "0d5a8464-f821-4b4d-a548-22c5cd37ec52"
      },
      "execution_count": null,
      "outputs": [
        {
          "output_type": "stream",
          "name": "stdout",
          "text": [
            "Методом скорейшего градиентного спуска найден минимум при x = [1.00036731 0.07147487] со значением -4.035713865948882 за 3 шагов\n",
            "На данной итерации градиент равен [0.00220388 0.00064824]\n"
          ]
        }
      ]
    }
  ]
}
